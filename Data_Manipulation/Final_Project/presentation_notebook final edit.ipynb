{
 "cells": [
  {
   "cell_type": "code",
   "execution_count": 1,
   "metadata": {},
   "outputs": [],
   "source": [
    "#Requirements\n",
    "import pandas as pd\n",
    "import cleaning_functions\n",
    "import matplotlib.pyplot as plt\n",
    "import numpy as np\n",
    "%matplotlib inline"
   ]
  },
  {
   "cell_type": "code",
   "execution_count": 2,
   "metadata": {},
   "outputs": [
    {
     "name": "stdout",
     "output_type": "stream",
     "text": [
      "Help on module cleaning_functions:\n",
      "\n",
      "NAME\n",
      "    cleaning_functions\n",
      "\n",
      "FUNCTIONS\n",
      "    change_names(happy, covid)\n",
      "        ##returns the last name from the name column\n",
      "    \n",
      "    total_vaccinations(df)\n",
      "        ## returns a plot which shows survival rates by pclass\n",
      "        ## expects the titanic dataframe in pandas format\n",
      "\n",
      "FILE\n",
      "    c:\\users\\santi\\desktop\\michigan\\si330\\proposition\\cleaning_functions.py\n",
      "\n",
      "\n"
     ]
    }
   ],
   "source": [
    "help(cleaning_functions)"
   ]
  },
  {
   "cell_type": "markdown",
   "metadata": {},
   "source": [
    "## Problem Statement\n",
    "Our goal is to determine how happiness levels correspond to responses and outcomes of COVID-19. "
   ]
  },
  {
   "cell_type": "markdown",
   "metadata": {},
   "source": [
    "## Data\n",
    "\n",
    "To answer this question, we are using the World Happiness Report from 2020 and the Novel COVID-19 set, both from Kaggle and linked below:\n",
    "\n",
    "COVID-19: https://www.kaggle.com/abhimaneukj/covid19-dataset\n",
    "\n",
    "WHR: https://www.kaggle.com/yamaerenay/world-happiness-report-preprocessed?select=2020_report.csv"
   ]
  },
  {
   "cell_type": "code",
   "execution_count": 2,
   "metadata": {},
   "outputs": [
    {
     "name": "stdout",
     "output_type": "stream",
     "text": [
      "(138, 10)\n",
      "(216, 18)\n"
     ]
    }
   ],
   "source": [
    "covid = pd.read_csv(\"COVID-19 Dataset.csv\")\n",
    "happy = pd.read_csv(\"2020_report.csv\")\n",
    "print(happy.shape)\n",
    "print(covid.shape)"
   ]
  },
  {
   "cell_type": "markdown",
   "metadata": {},
   "source": [
    "## Data cleaning and manipulation\n",
    "\n",
    "To address my central question I did the following data cleaning steps:\n",
    "1. Collect the names of countries that are in one dataset but not the others\n",
    "2. Determine manually which country names to change and which to drop\n",
    "3. Change the names in one data set to fit with the others\n",
    "4. Calculate the vaccination rate by dividing the total vaccinations by the population\n",
    "    \n",
    "This are all contained in the file data_cleaning_functions.py. "
   ]
  },
  {
   "cell_type": "code",
   "execution_count": 3,
   "metadata": {},
   "outputs": [
    {
     "name": "stdout",
     "output_type": "stream",
     "text": [
      "Andorra\n",
      "Angola\n",
      "Anguilla\n",
      "Antigua and Barbuda\n",
      "Aruba\n",
      "Bahamas\n",
      "Barbados\n",
      "Belize\n",
      "Bermuda\n",
      "Bhutan\n",
      "British Virgin Islands\n",
      "Brunei\n",
      "Cape Verde\n",
      "Cayman Islands\n",
      "Central African Republic\n",
      "Comoros\n",
      "Congo\n",
      "Cook Islands\n",
      "Cote d'Ivoire\n",
      "Cuba\n",
      "Curacao\n",
      "Czechia\n",
      "Democratic Republic of Congo\n",
      "Djibouti\n",
      "Dominica\n",
      "Equatorial Guinea\n",
      "Eritrea\n",
      "Eswatini\n",
      "Faeroe Islands\n",
      "Fiji\n",
      "French Polynesia\n",
      "Gambia\n",
      "Gibraltar\n",
      "Greenland\n",
      "Grenada\n",
      "Guernsey\n",
      "Guinea-Bissau\n",
      "Guyana\n",
      "Hong Kong\n",
      "Isle of Man\n",
      "Jersey\n",
      "Kiribati\n",
      "Laos\n",
      "Lesotho\n",
      "Liechtenstein\n",
      "Macao\n",
      "Maldives\n",
      "Marshall Islands\n",
      "Micronesia (country)\n",
      "Monaco\n",
      "Montserrat\n",
      "Mozambique\n",
      "Namibia\n",
      "New Caledonia\n",
      "North America\n",
      "North Macedonia\n",
      "Oceania\n",
      "Oman\n",
      "Palau\n",
      "Palestine\n",
      "Papua New Guinea\n",
      "Qatar\n",
      "Saint Kitts and Nevis\n",
      "Saint Lucia\n",
      "Saint Vincent and the Grenadines\n",
      "Samoa\n",
      "San Marino\n",
      "Sao Tome and Principe\n",
      "Seychelles\n",
      "Sint Maarten (Dutch part)\n",
      "Solomon Islands\n",
      "Somalia\n",
      "South Sudan\n",
      "Sudan\n",
      "Suriname\n",
      "Syria\n",
      "Taiwan\n",
      "Timor\n",
      "Tonga\n",
      "Trinidad and Tobago\n",
      "Turks and Caicos Islands\n",
      "Vanuatu\n",
      "Vatican\n",
      "Wallis and Futuna\n"
     ]
    }
   ],
   "source": [
    "# Clean names to prepare for merging\n",
    "happy = cleaning_functions.change_names(happy, covid)"
   ]
  },
  {
   "cell_type": "code",
   "execution_count": 3,
   "metadata": {},
   "outputs": [],
   "source": [
    "# Create vaccination rate column\n",
    "covid['vaccination_rate'] = covid.apply(cleaning_functions.total_vaccinations, axis = 1)"
   ]
  },
  {
   "cell_type": "code",
   "execution_count": 4,
   "metadata": {},
   "outputs": [
    {
     "data": {
      "text/html": [
       "<div>\n",
       "<style scoped>\n",
       "    .dataframe tbody tr th:only-of-type {\n",
       "        vertical-align: middle;\n",
       "    }\n",
       "\n",
       "    .dataframe tbody tr th {\n",
       "        vertical-align: top;\n",
       "    }\n",
       "\n",
       "    .dataframe thead th {\n",
       "        text-align: right;\n",
       "    }\n",
       "</style>\n",
       "<table border=\"1\" class=\"dataframe\">\n",
       "  <thead>\n",
       "    <tr style=\"text-align: right;\">\n",
       "      <th></th>\n",
       "      <th>Continent</th>\n",
       "      <th>Country</th>\n",
       "      <th>Total_Deaths_Per_Million</th>\n",
       "      <th>Total_Cases_Per_Million</th>\n",
       "      <th>vaccination_rate</th>\n",
       "      <th>Population_Density</th>\n",
       "      <th>GDP_Per_Capita</th>\n",
       "      <th>Median_Age</th>\n",
       "      <th>happiness_score</th>\n",
       "      <th>social_support</th>\n",
       "      <th>government_trust</th>\n",
       "      <th>continent</th>\n",
       "      <th>Population</th>\n",
       "    </tr>\n",
       "  </thead>\n",
       "  <tbody>\n",
       "    <tr>\n",
       "      <th>0</th>\n",
       "      <td>Europe</td>\n",
       "      <td>Finland</td>\n",
       "      <td>198.257</td>\n",
       "      <td>26547.840</td>\n",
       "      <td>0.653099</td>\n",
       "      <td>18.136</td>\n",
       "      <td>40585.721</td>\n",
       "      <td>42.8</td>\n",
       "      <td>7.8087</td>\n",
       "      <td>1.499526</td>\n",
       "      <td>0.477857</td>\n",
       "      <td>Europe</td>\n",
       "      <td>5548361.0</td>\n",
       "    </tr>\n",
       "    <tr>\n",
       "      <th>1</th>\n",
       "      <td>Europe</td>\n",
       "      <td>Denmark</td>\n",
       "      <td>459.808</td>\n",
       "      <td>63025.798</td>\n",
       "      <td>0.754859</td>\n",
       "      <td>136.520</td>\n",
       "      <td>46682.515</td>\n",
       "      <td>42.3</td>\n",
       "      <td>7.6456</td>\n",
       "      <td>1.503449</td>\n",
       "      <td>0.495260</td>\n",
       "      <td>Europe</td>\n",
       "      <td>5813302.0</td>\n",
       "    </tr>\n",
       "    <tr>\n",
       "      <th>2</th>\n",
       "      <td>Europe</td>\n",
       "      <td>Switzerland</td>\n",
       "      <td>1277.380</td>\n",
       "      <td>97605.942</td>\n",
       "      <td>0.597497</td>\n",
       "      <td>214.243</td>\n",
       "      <td>57410.166</td>\n",
       "      <td>43.1</td>\n",
       "      <td>7.5599</td>\n",
       "      <td>1.472403</td>\n",
       "      <td>0.407946</td>\n",
       "      <td>Europe</td>\n",
       "      <td>8715494.0</td>\n",
       "    </tr>\n",
       "    <tr>\n",
       "      <th>3</th>\n",
       "      <td>Europe</td>\n",
       "      <td>Iceland</td>\n",
       "      <td>96.109</td>\n",
       "      <td>35656.454</td>\n",
       "      <td>0.807345</td>\n",
       "      <td>3.404</td>\n",
       "      <td>46482.958</td>\n",
       "      <td>37.3</td>\n",
       "      <td>7.5045</td>\n",
       "      <td>1.547567</td>\n",
       "      <td>0.144541</td>\n",
       "      <td>Europe</td>\n",
       "      <td>343360.0</td>\n",
       "    </tr>\n",
       "    <tr>\n",
       "      <th>4</th>\n",
       "      <td>Europe</td>\n",
       "      <td>Norway</td>\n",
       "      <td>159.360</td>\n",
       "      <td>35445.875</td>\n",
       "      <td>0.675289</td>\n",
       "      <td>14.462</td>\n",
       "      <td>64800.057</td>\n",
       "      <td>39.7</td>\n",
       "      <td>7.4880</td>\n",
       "      <td>1.495173</td>\n",
       "      <td>0.434101</td>\n",
       "      <td>Europe</td>\n",
       "      <td>5465629.0</td>\n",
       "    </tr>\n",
       "  </tbody>\n",
       "</table>\n",
       "</div>"
      ],
      "text/plain": [
       "  Continent      Country  Total_Deaths_Per_Million  Total_Cases_Per_Million  \\\n",
       "0    Europe      Finland                   198.257                26547.840   \n",
       "1    Europe      Denmark                   459.808                63025.798   \n",
       "2    Europe  Switzerland                  1277.380                97605.942   \n",
       "3    Europe      Iceland                    96.109                35656.454   \n",
       "4    Europe       Norway                   159.360                35445.875   \n",
       "\n",
       "   vaccination_rate  Population_Density  GDP_Per_Capita  Median_Age  \\\n",
       "0          0.653099              18.136       40585.721        42.8   \n",
       "1          0.754859             136.520       46682.515        42.3   \n",
       "2          0.597497             214.243       57410.166        43.1   \n",
       "3          0.807345               3.404       46482.958        37.3   \n",
       "4          0.675289              14.462       64800.057        39.7   \n",
       "\n",
       "   happiness_score  social_support  government_trust continent  Population  \n",
       "0           7.8087        1.499526          0.477857    Europe   5548361.0  \n",
       "1           7.6456        1.503449          0.495260    Europe   5813302.0  \n",
       "2           7.5599        1.472403          0.407946    Europe   8715494.0  \n",
       "3           7.5045        1.547567          0.144541    Europe    343360.0  \n",
       "4           7.4880        1.495173          0.434101    Europe   5465629.0  "
      ]
     },
     "execution_count": 4,
     "metadata": {},
     "output_type": "execute_result"
    }
   ],
   "source": [
    "# Only include specific columns in the merge\n",
    "cols = ['Continent', 'Country', 'Total_Deaths_Per_Million', 'Total_Cases_Per_Million', \\\n",
    "        'vaccination_rate', 'Population_Density', 'GDP_Per_Capita', 'Median_Age', \\\n",
    "       'happiness_score', 'social_support', 'government_trust', 'continent', 'Population']\n",
    "merged_data = happy.merge(covid, how='left', left_on='country', right_on='Country')[cols]\n",
    "merged_data.head()"
   ]
  },
  {
   "cell_type": "markdown",
   "metadata": {},
   "source": [
    "## Analysis\n",
    "\n",
    "explanation "
   ]
  },
  {
   "cell_type": "markdown",
   "metadata": {},
   "source": [
    "## Question 1:\n",
    "#### Is there a correlation between a country's happiness levels and their COVID-19 response?\n",
    "\n",
    "In order to answer this question, we visualised the relationship between happiness_score and the vaccination rate of those countries in scatter plot graphs and bar graphs."
   ]
  },
  {
   "cell_type": "code",
   "execution_count": 5,
   "metadata": {},
   "outputs": [
    {
     "data": {
      "text/html": [
       "<div>\n",
       "<style scoped>\n",
       "    .dataframe tbody tr th:only-of-type {\n",
       "        vertical-align: middle;\n",
       "    }\n",
       "\n",
       "    .dataframe tbody tr th {\n",
       "        vertical-align: top;\n",
       "    }\n",
       "\n",
       "    .dataframe thead th {\n",
       "        text-align: right;\n",
       "    }\n",
       "</style>\n",
       "<table border=\"1\" class=\"dataframe\">\n",
       "  <thead>\n",
       "    <tr style=\"text-align: right;\">\n",
       "      <th></th>\n",
       "      <th>country</th>\n",
       "      <th>happiness_score</th>\n",
       "      <th>gdp_per_capita</th>\n",
       "      <th>social_support</th>\n",
       "      <th>health</th>\n",
       "      <th>freedom</th>\n",
       "      <th>generosity</th>\n",
       "      <th>government_trust</th>\n",
       "      <th>dystopia_residual</th>\n",
       "      <th>continent</th>\n",
       "      <th>...</th>\n",
       "      <th>Total_Vaccinations</th>\n",
       "      <th>People_Vaccinated</th>\n",
       "      <th>People_Fully_Vaccinated</th>\n",
       "      <th>Population</th>\n",
       "      <th>Population_Density</th>\n",
       "      <th>Median_Age</th>\n",
       "      <th>Aged_65_Older</th>\n",
       "      <th>Aged_70_Older</th>\n",
       "      <th>GDP_Per_Capita</th>\n",
       "      <th>vaccination_rate</th>\n",
       "    </tr>\n",
       "  </thead>\n",
       "  <tbody>\n",
       "    <tr>\n",
       "      <th>0</th>\n",
       "      <td>Finland</td>\n",
       "      <td>7.8087</td>\n",
       "      <td>1.285190</td>\n",
       "      <td>1.499526</td>\n",
       "      <td>0.961271</td>\n",
       "      <td>0.662317</td>\n",
       "      <td>0.159670</td>\n",
       "      <td>0.477857</td>\n",
       "      <td>2.762835</td>\n",
       "      <td>Europe</td>\n",
       "      <td>...</td>\n",
       "      <td>7786863.0</td>\n",
       "      <td>4163232.0</td>\n",
       "      <td>3623631.0</td>\n",
       "      <td>5548361.0</td>\n",
       "      <td>18.136</td>\n",
       "      <td>42.8</td>\n",
       "      <td>21.228</td>\n",
       "      <td>13.264</td>\n",
       "      <td>40585.721</td>\n",
       "      <td>0.653099</td>\n",
       "    </tr>\n",
       "    <tr>\n",
       "      <th>1</th>\n",
       "      <td>Denmark</td>\n",
       "      <td>7.6456</td>\n",
       "      <td>1.326949</td>\n",
       "      <td>1.503449</td>\n",
       "      <td>0.979333</td>\n",
       "      <td>0.665040</td>\n",
       "      <td>0.242793</td>\n",
       "      <td>0.495260</td>\n",
       "      <td>2.432741</td>\n",
       "      <td>Europe</td>\n",
       "      <td>...</td>\n",
       "      <td>8804552.0</td>\n",
       "      <td>4462629.0</td>\n",
       "      <td>4388221.0</td>\n",
       "      <td>5813302.0</td>\n",
       "      <td>136.520</td>\n",
       "      <td>42.3</td>\n",
       "      <td>19.677</td>\n",
       "      <td>12.325</td>\n",
       "      <td>46682.515</td>\n",
       "      <td>0.754859</td>\n",
       "    </tr>\n",
       "    <tr>\n",
       "      <th>2</th>\n",
       "      <td>Switzerland</td>\n",
       "      <td>7.5599</td>\n",
       "      <td>1.390774</td>\n",
       "      <td>1.472403</td>\n",
       "      <td>1.040533</td>\n",
       "      <td>0.628954</td>\n",
       "      <td>0.269056</td>\n",
       "      <td>0.407946</td>\n",
       "      <td>2.350267</td>\n",
       "      <td>Europe</td>\n",
       "      <td>...</td>\n",
       "      <td>10664254.0</td>\n",
       "      <td>5606512.0</td>\n",
       "      <td>5207485.0</td>\n",
       "      <td>8715494.0</td>\n",
       "      <td>214.243</td>\n",
       "      <td>43.1</td>\n",
       "      <td>18.436</td>\n",
       "      <td>12.644</td>\n",
       "      <td>57410.166</td>\n",
       "      <td>0.597497</td>\n",
       "    </tr>\n",
       "    <tr>\n",
       "      <th>3</th>\n",
       "      <td>Iceland</td>\n",
       "      <td>7.5045</td>\n",
       "      <td>1.326502</td>\n",
       "      <td>1.547567</td>\n",
       "      <td>1.000843</td>\n",
       "      <td>0.661981</td>\n",
       "      <td>0.362330</td>\n",
       "      <td>0.144541</td>\n",
       "      <td>2.460688</td>\n",
       "      <td>Europe</td>\n",
       "      <td>...</td>\n",
       "      <td>558483.0</td>\n",
       "      <td>282036.0</td>\n",
       "      <td>277210.0</td>\n",
       "      <td>343360.0</td>\n",
       "      <td>3.404</td>\n",
       "      <td>37.3</td>\n",
       "      <td>14.431</td>\n",
       "      <td>9.207</td>\n",
       "      <td>46482.958</td>\n",
       "      <td>0.807345</td>\n",
       "    </tr>\n",
       "    <tr>\n",
       "      <th>4</th>\n",
       "      <td>Norway</td>\n",
       "      <td>7.4880</td>\n",
       "      <td>1.424207</td>\n",
       "      <td>1.495173</td>\n",
       "      <td>1.008072</td>\n",
       "      <td>0.670201</td>\n",
       "      <td>0.287985</td>\n",
       "      <td>0.434101</td>\n",
       "      <td>2.168266</td>\n",
       "      <td>Europe</td>\n",
       "      <td>...</td>\n",
       "      <td>7874383.0</td>\n",
       "      <td>4183502.0</td>\n",
       "      <td>3690881.0</td>\n",
       "      <td>5465629.0</td>\n",
       "      <td>14.462</td>\n",
       "      <td>39.7</td>\n",
       "      <td>16.821</td>\n",
       "      <td>10.813</td>\n",
       "      <td>64800.057</td>\n",
       "      <td>0.675289</td>\n",
       "    </tr>\n",
       "    <tr>\n",
       "      <th>...</th>\n",
       "      <td>...</td>\n",
       "      <td>...</td>\n",
       "      <td>...</td>\n",
       "      <td>...</td>\n",
       "      <td>...</td>\n",
       "      <td>...</td>\n",
       "      <td>...</td>\n",
       "      <td>...</td>\n",
       "      <td>...</td>\n",
       "      <td>...</td>\n",
       "      <td>...</td>\n",
       "      <td>...</td>\n",
       "      <td>...</td>\n",
       "      <td>...</td>\n",
       "      <td>...</td>\n",
       "      <td>...</td>\n",
       "      <td>...</td>\n",
       "      <td>...</td>\n",
       "      <td>...</td>\n",
       "      <td>...</td>\n",
       "      <td>...</td>\n",
       "    </tr>\n",
       "    <tr>\n",
       "      <th>133</th>\n",
       "      <td>Botswana</td>\n",
       "      <td>3.4789</td>\n",
       "      <td>0.997549</td>\n",
       "      <td>1.085695</td>\n",
       "      <td>0.494102</td>\n",
       "      <td>0.509089</td>\n",
       "      <td>0.033407</td>\n",
       "      <td>0.101786</td>\n",
       "      <td>0.257241</td>\n",
       "      <td>Africa</td>\n",
       "      <td>...</td>\n",
       "      <td>690001.0</td>\n",
       "      <td>444442.0</td>\n",
       "      <td>245559.0</td>\n",
       "      <td>2397240.0</td>\n",
       "      <td>4.044</td>\n",
       "      <td>25.8</td>\n",
       "      <td>3.941</td>\n",
       "      <td>2.242</td>\n",
       "      <td>15807.374</td>\n",
       "      <td>0.102434</td>\n",
       "    </tr>\n",
       "    <tr>\n",
       "      <th>134</th>\n",
       "      <td>Tanzania</td>\n",
       "      <td>3.4762</td>\n",
       "      <td>0.457163</td>\n",
       "      <td>0.872675</td>\n",
       "      <td>0.442678</td>\n",
       "      <td>0.509343</td>\n",
       "      <td>0.271541</td>\n",
       "      <td>0.203881</td>\n",
       "      <td>0.718963</td>\n",
       "      <td>Africa</td>\n",
       "      <td>...</td>\n",
       "      <td>595938.0</td>\n",
       "      <td>NaN</td>\n",
       "      <td>560938.0</td>\n",
       "      <td>61498438.0</td>\n",
       "      <td>64.699</td>\n",
       "      <td>17.7</td>\n",
       "      <td>3.108</td>\n",
       "      <td>1.874</td>\n",
       "      <td>2683.304</td>\n",
       "      <td>0.009121</td>\n",
       "    </tr>\n",
       "    <tr>\n",
       "      <th>135</th>\n",
       "      <td>Rwanda</td>\n",
       "      <td>3.3123</td>\n",
       "      <td>0.343243</td>\n",
       "      <td>0.522876</td>\n",
       "      <td>0.572383</td>\n",
       "      <td>0.604088</td>\n",
       "      <td>0.235705</td>\n",
       "      <td>0.485542</td>\n",
       "      <td>0.548445</td>\n",
       "      <td>Africa</td>\n",
       "      <td>...</td>\n",
       "      <td>3888869.0</td>\n",
       "      <td>2192888.0</td>\n",
       "      <td>1695981.0</td>\n",
       "      <td>13276517.0</td>\n",
       "      <td>494.869</td>\n",
       "      <td>20.3</td>\n",
       "      <td>2.974</td>\n",
       "      <td>1.642</td>\n",
       "      <td>1854.211</td>\n",
       "      <td>0.127743</td>\n",
       "    </tr>\n",
       "    <tr>\n",
       "      <th>136</th>\n",
       "      <td>Zimbabwe</td>\n",
       "      <td>3.2992</td>\n",
       "      <td>0.425564</td>\n",
       "      <td>1.047835</td>\n",
       "      <td>0.375038</td>\n",
       "      <td>0.377405</td>\n",
       "      <td>0.151349</td>\n",
       "      <td>0.080929</td>\n",
       "      <td>0.841031</td>\n",
       "      <td>Africa</td>\n",
       "      <td>...</td>\n",
       "      <td>5594808.0</td>\n",
       "      <td>3176445.0</td>\n",
       "      <td>2418363.0</td>\n",
       "      <td>15092171.0</td>\n",
       "      <td>42.729</td>\n",
       "      <td>19.6</td>\n",
       "      <td>2.822</td>\n",
       "      <td>1.882</td>\n",
       "      <td>1899.775</td>\n",
       "      <td>0.160240</td>\n",
       "    </tr>\n",
       "    <tr>\n",
       "      <th>137</th>\n",
       "      <td>Afghanistan</td>\n",
       "      <td>2.5669</td>\n",
       "      <td>0.300706</td>\n",
       "      <td>0.356434</td>\n",
       "      <td>0.266052</td>\n",
       "      <td>0.000000</td>\n",
       "      <td>0.135235</td>\n",
       "      <td>0.001226</td>\n",
       "      <td>1.507236</td>\n",
       "      <td>Asia</td>\n",
       "      <td>...</td>\n",
       "      <td>2369625.0</td>\n",
       "      <td>828601.0</td>\n",
       "      <td>NaN</td>\n",
       "      <td>39835428.0</td>\n",
       "      <td>54.422</td>\n",
       "      <td>18.6</td>\n",
       "      <td>2.581</td>\n",
       "      <td>1.337</td>\n",
       "      <td>1803.987</td>\n",
       "      <td>NaN</td>\n",
       "    </tr>\n",
       "  </tbody>\n",
       "</table>\n",
       "<p>138 rows × 29 columns</p>\n",
       "</div>"
      ],
      "text/plain": [
       "         country  happiness_score  gdp_per_capita  social_support    health  \\\n",
       "0        Finland           7.8087        1.285190        1.499526  0.961271   \n",
       "1        Denmark           7.6456        1.326949        1.503449  0.979333   \n",
       "2    Switzerland           7.5599        1.390774        1.472403  1.040533   \n",
       "3        Iceland           7.5045        1.326502        1.547567  1.000843   \n",
       "4         Norway           7.4880        1.424207        1.495173  1.008072   \n",
       "..           ...              ...             ...             ...       ...   \n",
       "133     Botswana           3.4789        0.997549        1.085695  0.494102   \n",
       "134     Tanzania           3.4762        0.457163        0.872675  0.442678   \n",
       "135       Rwanda           3.3123        0.343243        0.522876  0.572383   \n",
       "136     Zimbabwe           3.2992        0.425564        1.047835  0.375038   \n",
       "137  Afghanistan           2.5669        0.300706        0.356434  0.266052   \n",
       "\n",
       "      freedom  generosity  government_trust  dystopia_residual continent  ...  \\\n",
       "0    0.662317    0.159670          0.477857           2.762835    Europe  ...   \n",
       "1    0.665040    0.242793          0.495260           2.432741    Europe  ...   \n",
       "2    0.628954    0.269056          0.407946           2.350267    Europe  ...   \n",
       "3    0.661981    0.362330          0.144541           2.460688    Europe  ...   \n",
       "4    0.670201    0.287985          0.434101           2.168266    Europe  ...   \n",
       "..        ...         ...               ...                ...       ...  ...   \n",
       "133  0.509089    0.033407          0.101786           0.257241    Africa  ...   \n",
       "134  0.509343    0.271541          0.203881           0.718963    Africa  ...   \n",
       "135  0.604088    0.235705          0.485542           0.548445    Africa  ...   \n",
       "136  0.377405    0.151349          0.080929           0.841031    Africa  ...   \n",
       "137  0.000000    0.135235          0.001226           1.507236      Asia  ...   \n",
       "\n",
       "    Total_Vaccinations People_Vaccinated People_Fully_Vaccinated  Population  \\\n",
       "0            7786863.0         4163232.0               3623631.0   5548361.0   \n",
       "1            8804552.0         4462629.0               4388221.0   5813302.0   \n",
       "2           10664254.0         5606512.0               5207485.0   8715494.0   \n",
       "3             558483.0          282036.0                277210.0    343360.0   \n",
       "4            7874383.0         4183502.0               3690881.0   5465629.0   \n",
       "..                 ...               ...                     ...         ...   \n",
       "133           690001.0          444442.0                245559.0   2397240.0   \n",
       "134           595938.0               NaN                560938.0  61498438.0   \n",
       "135          3888869.0         2192888.0               1695981.0  13276517.0   \n",
       "136          5594808.0         3176445.0               2418363.0  15092171.0   \n",
       "137          2369625.0          828601.0                     NaN  39835428.0   \n",
       "\n",
       "     Population_Density  Median_Age  Aged_65_Older  Aged_70_Older  \\\n",
       "0                18.136        42.8         21.228         13.264   \n",
       "1               136.520        42.3         19.677         12.325   \n",
       "2               214.243        43.1         18.436         12.644   \n",
       "3                 3.404        37.3         14.431          9.207   \n",
       "4                14.462        39.7         16.821         10.813   \n",
       "..                  ...         ...            ...            ...   \n",
       "133               4.044        25.8          3.941          2.242   \n",
       "134              64.699        17.7          3.108          1.874   \n",
       "135             494.869        20.3          2.974          1.642   \n",
       "136              42.729        19.6          2.822          1.882   \n",
       "137              54.422        18.6          2.581          1.337   \n",
       "\n",
       "     GDP_Per_Capita  vaccination_rate  \n",
       "0         40585.721          0.653099  \n",
       "1         46682.515          0.754859  \n",
       "2         57410.166          0.597497  \n",
       "3         46482.958          0.807345  \n",
       "4         64800.057          0.675289  \n",
       "..              ...               ...  \n",
       "133       15807.374          0.102434  \n",
       "134        2683.304          0.009121  \n",
       "135        1854.211          0.127743  \n",
       "136        1899.775          0.160240  \n",
       "137        1803.987               NaN  \n",
       "\n",
       "[138 rows x 29 columns]"
      ]
     },
     "execution_count": 5,
     "metadata": {},
     "output_type": "execute_result"
    }
   ],
   "source": [
    "merged_data = happy.merge(covid, how='left', left_on='country', right_on='Country')\n",
    "merged_data"
   ]
  },
  {
   "cell_type": "code",
   "execution_count": 6,
   "metadata": {},
   "outputs": [],
   "source": [
    "def vacc_percent(df):\n",
    "    return(df['People_Fully_Vaccinated'] / df['Population'])"
   ]
  },
  {
   "cell_type": "code",
   "execution_count": 7,
   "metadata": {},
   "outputs": [],
   "source": [
    "#creating the vaccination rate column\n",
    "merged_data['vaccination_percent'] = merged_data.apply(vacc_percent, axis=1)"
   ]
  },
  {
   "cell_type": "code",
   "execution_count": 8,
   "metadata": {},
   "outputs": [],
   "source": [
    "#dropping missing values\n",
    "merged_data.dropna(inplace=True)"
   ]
  },
  {
   "cell_type": "code",
   "execution_count": 9,
   "metadata": {},
   "outputs": [],
   "source": [
    "merged_data[\"happiness_score\"] = merged_data[\"happiness_score\"]/8"
   ]
  },
  {
   "cell_type": "code",
   "execution_count": 11,
   "metadata": {},
   "outputs": [
    {
     "data": {
      "text/plain": [
       "(0.7147954963228282, 1.9804076536525667e-13)"
      ]
     },
     "execution_count": 11,
     "metadata": {},
     "output_type": "execute_result"
    }
   ],
   "source": [
    "from scipy import stats\n",
    "stats.pearsonr(merged_data[\"happiness_score\"],merged_data['vaccination_percent'])"
   ]
  },
  {
   "cell_type": "code",
   "execution_count": 26,
   "metadata": {
    "scrolled": true
   },
   "outputs": [
    {
     "name": "stdout",
     "output_type": "stream",
     "text": [
      "0.37696204146913576\n"
     ]
    },
    {
     "data": {
      "text/plain": [
       "(0.0, 1.0)"
      ]
     },
     "execution_count": 26,
     "metadata": {},
     "output_type": "execute_result"
    },
    {
     "data": {
      "image/png": "[encoded data removed]",
      "text/plain": [
       "<Figure size 432x288 with 1 Axes>"
      ]
     },
     "metadata": {
      "needs_background": "light"
     },
     "output_type": "display_data"
    }
   ],
   "source": [
    "import matplotlib.patches as mpatches\n",
    "\n",
    "cmap = {1:\"#fdc086\",0:\"#beaed4\"}\n",
    "\n",
    "y = merged_data[\"happiness_score\"]\n",
    "x = merged_data[\"vaccination_percent\"]\n",
    "colors = []\n",
    "labels=[]\n",
    "\n",
    "#line of best fit\n",
    "m, b = np.polyfit(x, y, 1)\n",
    "plt. plot(x, m*x + b, color='red')\n",
    "print(m)\n",
    "\n",
    "plt.scatter(x,y)\n",
    "\n",
    "#axis\n",
    "plt.ylabel(\"Happiness Score\")\n",
    "plt.xlabel(\"Vaccination Rate\")\n",
    "\n",
    "plt.ylim([0,1])"
   ]
  },
  {
   "cell_type": "code",
   "execution_count": 23,
   "metadata": {},
   "outputs": [],
   "source": [
    "least_trust = merged_data.nsmallest(5,'happiness_score')[['country','vaccination_percent','happiness_score']]\n",
    "most_trust = merged_data.nlargest(5,'happiness_score')[['country','vaccination_percent', 'happiness_score']]\n",
    "trust_df = most_trust.merge(least_trust, how='outer', on=['country','vaccination_percent', 'happiness_score'])\n",
    "#least_trust\n",
    "trust_df = trust_df.sort_values(by=['happiness_score'])"
   ]
  },
  {
   "cell_type": "code",
   "execution_count": 25,
   "metadata": {},
   "outputs": [
    {
     "data": {
      "image/png": "[encoded data removed]",
      "text/plain": [
       "<Figure size 432x288 with 2 Axes>"
      ]
     },
     "metadata": {
      "needs_background": "light"
     },
     "output_type": "display_data"
    }
   ],
   "source": [
    "X = trust_df['country']\n",
    "fig, plt1 = plt.subplots()\n",
    "vac_rate = trust_df['vaccination_percent']\n",
    "gov_trust = trust_df['happiness_score']\n",
    "  \n",
    "X_axis = np.arange(len(X))\n",
    "plt.xticks(X_axis, X, rotation = 90)\n",
    "\n",
    "plt2 = plt.twinx()\n",
    "plt1.bar(X_axis - 0.2, vac_rate, 0.4, label = 'vaccination_percent', align='center', color='sandybrown')\n",
    "plt2.bar(X_axis + 0.2, gov_trust, 0.4, label = 'happiness_score', align='center', color='firebrick')\n",
    "\n",
    "#plt.xlabel(\"Countries\")\n",
    "plt1.set_ylabel(\"Vaccination Rate\",color='sandybrown')\n",
    "plt2.set_ylabel('Happiness Score', color='firebrick')\n",
    "plt.title(\"Top 5 and Bottom 5 Countries by Happiness Score\")\n",
    "plt.show()"
   ]
  },
  {
   "cell_type": "markdown",
   "metadata": {},
   "source": [
    "In conclusion, there is a positive correlation between Happiness Score and Vaccination Rate of 0.38"
   ]
  },
  {
   "cell_type": "markdown",
   "metadata": {},
   "source": [
    "## Question 2:\n",
    "#### Is there a correlation between a country's government trust levels and their COVID-19 outcomes?\n",
    "\n",
    "In order to answer this question, we compared the countries' mortality rate/infection rate to their government trust."
   ]
  },
  {
   "cell_type": "code",
   "execution_count": 36,
   "metadata": {},
   "outputs": [],
   "source": [
    "# merges the 2 datasets on \"country\"\n",
    "full_merged_data = happy.merge(covid, how='left', left_on='country', right_on='Country')"
   ]
  },
  {
   "cell_type": "code",
   "execution_count": 37,
   "metadata": {},
   "outputs": [
    {
     "name": "stdout",
     "output_type": "stream",
     "text": [
      "-0.17500140356663624\n"
     ]
    },
    {
     "data": {
      "image/png": "[encoded data removed]",
      "text/plain": [
       "<Figure size 432x288 with 1 Axes>"
      ]
     },
     "metadata": {
      "needs_background": "light"
     },
     "output_type": "display_data"
    }
   ],
   "source": [
    "# Positive cases vs. gov't trust\n",
    "full_merged_data.dropna(inplace=True)\n",
    "fig = plt.figure()\n",
    "ax = fig.add_subplot(1,1,1)\n",
    "ax.scatter(full_merged_data[\"government_trust\"], full_merged_data['Positive_rate'])\n",
    "\n",
    "x = full_merged_data['government_trust']\n",
    "y = full_merged_data['Positive_rate']\n",
    "\n",
    "# labels\n",
    "ax.set_xlabel(\"Government Trust\")\n",
    "ax.set_ylabel(\"Positive Rate\")\n",
    "ax.set_title(\"How government trust affects infection rate\")\n",
    "\n",
    "# line of best fit\n",
    "m, b = np.polyfit(x, y, 1)\n",
    "plt.plot(x, m*x + b, color = 'red')\n",
    "print(m)"
   ]
  },
  {
   "cell_type": "markdown",
   "metadata": {},
   "source": [
    "Correlation = - 0.17"
   ]
  },
  {
   "cell_type": "code",
   "execution_count": 39,
   "metadata": {},
   "outputs": [],
   "source": [
    "# Creates new column \"mortality_rate\"\n",
    "full_merged_data['mortality_rate'] = full_merged_data['Total_Deaths'] / full_merged_data['Total_Cases']"
   ]
  },
  {
   "cell_type": "code",
   "execution_count": 41,
   "metadata": {},
   "outputs": [
    {
     "name": "stdout",
     "output_type": "stream",
     "text": [
      "-0.040103759601097765\n"
     ]
    },
    {
     "data": {
      "image/png": "[encoded data removed]",
      "text/plain": [
       "<Figure size 432x288 with 1 Axes>"
      ]
     },
     "metadata": {
      "needs_background": "light"
     },
     "output_type": "display_data"
    }
   ],
   "source": [
    "# Mortality rate vs. gov't trust\n",
    "fig = plt.figure()\n",
    "ax = fig.add_subplot(1,1,1)\n",
    "ax.scatter(full_merged_data[\"government_trust\"], full_merged_data['mortality_rate'])\n",
    "\n",
    "x = full_merged_data['government_trust']\n",
    "y = full_merged_data['mortality_rate']\n",
    "\n",
    "# labels\n",
    "ax.set_xlabel(\"Government Trust\")\n",
    "ax.set_ylabel(\"Mortality Rate\")\n",
    "ax.set_title(\"How government trust affects mortality rate\")\n",
    "\n",
    "# line of best fit\n",
    "m, b = np.polyfit(x, y, 1)\n",
    "plt.plot(x, m*x + b, color = 'red')\n",
    "print(m)"
   ]
  },
  {
   "cell_type": "markdown",
   "metadata": {},
   "source": [
    "There is a negative correlation between gov't trust vs. infection rate, as well as gov't trust vs. mortality rate (about -0.04)"
   ]
  },
  {
   "cell_type": "markdown",
   "metadata": {},
   "source": [
    "## Question 3:\n",
    "#### How does each country's GDP impact the death rates and vaccination rates during COVID-19?\n",
    "\n",
    "In order to answer this question, we decided to look at the 10 countries with the highest and the 10 countries with the lowest GDP. "
   ]
  },
  {
   "cell_type": "markdown",
   "metadata": {},
   "source": [
    "First, we created a dataframe including the country name, GDP, vaccination rate, and deaths per million people organized by GDP low to high. "
   ]
  },
  {
   "cell_type": "code",
   "execution_count": 7,
   "metadata": {},
   "outputs": [],
   "source": [
    "gdp_data = merged_data[['Country', 'GDP_Per_Capita', 'vaccination_rate', 'Total_Deaths_Per_Million', \\\n",
    "                'Population_Density', 'Population']]. sort_values(by='GDP_Per_Capita').dropna(subset=\\\n",
    "                ['GDP_Per_Capita', 'vaccination_rate', 'Total_Deaths_Per_Million'])"
   ]
  },
  {
   "cell_type": "code",
   "execution_count": 8,
   "metadata": {},
   "outputs": [
    {
     "data": {
      "text/html": [
       "<div>\n",
       "<style scoped>\n",
       "    .dataframe tbody tr th:only-of-type {\n",
       "        vertical-align: middle;\n",
       "    }\n",
       "\n",
       "    .dataframe tbody tr th {\n",
       "        vertical-align: top;\n",
       "    }\n",
       "\n",
       "    .dataframe thead th {\n",
       "        text-align: right;\n",
       "    }\n",
       "</style>\n",
       "<table border=\"1\" class=\"dataframe\">\n",
       "  <thead>\n",
       "    <tr style=\"text-align: right;\">\n",
       "      <th></th>\n",
       "      <th>Country</th>\n",
       "      <th>GDP_Per_Capita</th>\n",
       "      <th>vaccination_rate</th>\n",
       "      <th>Total_Deaths_Per_Million</th>\n",
       "      <th>Population_Density</th>\n",
       "      <th>Population</th>\n",
       "    </tr>\n",
       "  </thead>\n",
       "  <tbody>\n",
       "    <tr>\n",
       "      <th>113</th>\n",
       "      <td>Liberia</td>\n",
       "      <td>752.788</td>\n",
       "      <td>0.001763</td>\n",
       "      <td>55.210</td>\n",
       "      <td>49.127</td>\n",
       "      <td>5180208</td>\n",
       "    </tr>\n",
       "    <tr>\n",
       "      <th>120</th>\n",
       "      <td>Democratic Republic of Congo</td>\n",
       "      <td>808.133</td>\n",
       "      <td>0.000407</td>\n",
       "      <td>11.767</td>\n",
       "      <td>35.879</td>\n",
       "      <td>92377986</td>\n",
       "    </tr>\n",
       "    <tr>\n",
       "      <th>96</th>\n",
       "      <td>Niger</td>\n",
       "      <td>926.000</td>\n",
       "      <td>0.008619</td>\n",
       "      <td>8.118</td>\n",
       "      <td>16.955</td>\n",
       "      <td>25130810</td>\n",
       "    </tr>\n",
       "    <tr>\n",
       "      <th>131</th>\n",
       "      <td>Malawi</td>\n",
       "      <td>1095.042</td>\n",
       "      <td>0.025969</td>\n",
       "      <td>116.553</td>\n",
       "      <td>197.519</td>\n",
       "      <td>19647681</td>\n",
       "    </tr>\n",
       "    <tr>\n",
       "      <th>126</th>\n",
       "      <td>Sierra Leone</td>\n",
       "      <td>1390.300</td>\n",
       "      <td>0.005393</td>\n",
       "      <td>14.862</td>\n",
       "      <td>104.700</td>\n",
       "      <td>8141343</td>\n",
       "    </tr>\n",
       "  </tbody>\n",
       "</table>\n",
       "</div>"
      ],
      "text/plain": [
       "                          Country  GDP_Per_Capita  vaccination_rate  \\\n",
       "113                       Liberia         752.788          0.001763   \n",
       "120  Democratic Republic of Congo         808.133          0.000407   \n",
       "96                          Niger         926.000          0.008619   \n",
       "131                        Malawi        1095.042          0.025969   \n",
       "126                  Sierra Leone        1390.300          0.005393   \n",
       "\n",
       "     Total_Deaths_Per_Million  Population_Density  Population  \n",
       "113                    55.210              49.127     5180208  \n",
       "120                    11.767              35.879    92377986  \n",
       "96                      8.118              16.955    25130810  \n",
       "131                   116.553             197.519    19647681  \n",
       "126                    14.862             104.700     8141343  "
      ]
     },
     "execution_count": 8,
     "metadata": {},
     "output_type": "execute_result"
    }
   ],
   "source": [
    "gdp_data.head()"
   ]
  },
  {
   "cell_type": "code",
   "execution_count": 9,
   "metadata": {},
   "outputs": [],
   "source": [
    "min_5_gdp = gdp_data[0:11] \n",
    "max_5_gdp = gdp_data[-11:-1]\n",
    "max_min_gdp = min_5_gdp.merge(max_5_gdp, how='outer')"
   ]
  },
  {
   "cell_type": "code",
   "execution_count": 22,
   "metadata": {},
   "outputs": [
    {
     "data": {
      "text/html": [
       "<div>\n",
       "<style scoped>\n",
       "    .dataframe tbody tr th:only-of-type {\n",
       "        vertical-align: middle;\n",
       "    }\n",
       "\n",
       "    .dataframe tbody tr th {\n",
       "        vertical-align: top;\n",
       "    }\n",
       "\n",
       "    .dataframe thead th {\n",
       "        text-align: right;\n",
       "    }\n",
       "</style>\n",
       "<table border=\"1\" class=\"dataframe\">\n",
       "  <thead>\n",
       "    <tr style=\"text-align: right;\">\n",
       "      <th></th>\n",
       "      <th>Country</th>\n",
       "      <th>GDP_Per_Capita</th>\n",
       "      <th>vaccination_rate</th>\n",
       "      <th>Total_Deaths_Per_Million</th>\n",
       "      <th>Population_Density</th>\n",
       "      <th>Population</th>\n",
       "    </tr>\n",
       "  </thead>\n",
       "  <tbody>\n",
       "    <tr>\n",
       "      <th>0</th>\n",
       "      <td>Liberia</td>\n",
       "      <td>752.788</td>\n",
       "      <td>0.001763</td>\n",
       "      <td>55.210</td>\n",
       "      <td>49.127</td>\n",
       "      <td>5180208</td>\n",
       "    </tr>\n",
       "    <tr>\n",
       "      <th>1</th>\n",
       "      <td>Democratic Republic of Congo</td>\n",
       "      <td>808.133</td>\n",
       "      <td>0.000407</td>\n",
       "      <td>11.767</td>\n",
       "      <td>35.879</td>\n",
       "      <td>92377986</td>\n",
       "    </tr>\n",
       "    <tr>\n",
       "      <th>2</th>\n",
       "      <td>Niger</td>\n",
       "      <td>926.000</td>\n",
       "      <td>0.008619</td>\n",
       "      <td>8.118</td>\n",
       "      <td>16.955</td>\n",
       "      <td>25130810</td>\n",
       "    </tr>\n",
       "    <tr>\n",
       "      <th>3</th>\n",
       "      <td>Malawi</td>\n",
       "      <td>1095.042</td>\n",
       "      <td>0.025969</td>\n",
       "      <td>116.553</td>\n",
       "      <td>197.519</td>\n",
       "      <td>19647681</td>\n",
       "    </tr>\n",
       "    <tr>\n",
       "      <th>4</th>\n",
       "      <td>Sierra Leone</td>\n",
       "      <td>1390.300</td>\n",
       "      <td>0.005393</td>\n",
       "      <td>14.862</td>\n",
       "      <td>104.700</td>\n",
       "      <td>8141343</td>\n",
       "    </tr>\n",
       "  </tbody>\n",
       "</table>\n",
       "</div>"
      ],
      "text/plain": [
       "                        Country  GDP_Per_Capita  vaccination_rate  \\\n",
       "0                       Liberia         752.788          0.001763   \n",
       "1  Democratic Republic of Congo         808.133          0.000407   \n",
       "2                         Niger         926.000          0.008619   \n",
       "3                        Malawi        1095.042          0.025969   \n",
       "4                  Sierra Leone        1390.300          0.005393   \n",
       "\n",
       "   Total_Deaths_Per_Million  Population_Density  Population  \n",
       "0                    55.210              49.127     5180208  \n",
       "1                    11.767              35.879    92377986  \n",
       "2                     8.118              16.955    25130810  \n",
       "3                   116.553             197.519    19647681  \n",
       "4                    14.862             104.700     8141343  "
      ]
     },
     "execution_count": 22,
     "metadata": {},
     "output_type": "execute_result"
    }
   ],
   "source": [
    "max_min_gdp.head()"
   ]
  },
  {
   "cell_type": "code",
   "execution_count": 11,
   "metadata": {},
   "outputs": [],
   "source": [
    "gdp_countries = max_min_gdp['Country']\n",
    "gdp_scores = max_min_gdp['GDP_Per_Capita']\n",
    "gdp_vaccination_rates = max_min_gdp['vaccination_rate']\n",
    "gdp_death_rates = max_min_gdp['Total_Deaths_Per_Million']\n",
    "gdp_population_density = max_min_gdp['Population_Density']"
   ]
  },
  {
   "cell_type": "markdown",
   "metadata": {},
   "source": [
    "The countries with the highest and lowest GDPs were graphed on a bar chart to show the large difference between them. "
   ]
  },
  {
   "cell_type": "code",
   "execution_count": 12,
   "metadata": {},
   "outputs": [
    {
     "data": {
      "text/plain": [
       "(array([ 0,  1,  2,  3,  4,  5,  6,  7,  8,  9, 10, 11, 12, 13, 14, 15, 16,\n",
       "        17, 18, 19, 20]),\n",
       " [Text(0, 0, 'Liberia'),\n",
       "  Text(1, 0, 'Democratic Republic of Congo'),\n",
       "  Text(2, 0, 'Niger'),\n",
       "  Text(3, 0, 'Malawi'),\n",
       "  Text(4, 0, 'Sierra Leone'),\n",
       "  Text(5, 0, 'Togo'),\n",
       "  Text(6, 0, 'Haiti'),\n",
       "  Text(7, 0, 'Uganda'),\n",
       "  Text(8, 0, 'Burkina Faso'),\n",
       "  Text(9, 0, 'Ethiopia'),\n",
       "  Text(10, 0, 'Chad'),\n",
       "  Text(11, 0, 'Iceland'),\n",
       "  Text(12, 0, 'Denmark'),\n",
       "  Text(13, 0, 'Sweden'),\n",
       "  Text(14, 0, 'Netherlands'),\n",
       "  Text(15, 0, 'Saudi Arabia'),\n",
       "  Text(16, 0, 'United States'),\n",
       "  Text(17, 0, 'Switzerland'),\n",
       "  Text(18, 0, 'Norway'),\n",
       "  Text(19, 0, 'United Arab Emirates'),\n",
       "  Text(20, 0, 'Ireland')])"
      ]
     },
     "execution_count": 12,
     "metadata": {},
     "output_type": "execute_result"
    },
    {
     "data": {
      "image/png": "[encoded data removed]",
      "text/plain": [
       "<Figure size 432x288 with 1 Axes>"
      ]
     },
     "metadata": {
      "needs_background": "light"
     },
     "output_type": "display_data"
    }
   ],
   "source": [
    "ticks = range(len(gdp_countries))\n",
    "plt.bar(ticks,gdp_scores, align='center', color='midnightblue')\n",
    "plt.xticks(ticks, gdp_countries)\n",
    "plt.xticks(rotation=90)"
   ]
  },
  {
   "cell_type": "markdown",
   "metadata": {},
   "source": [
    "The vaccination rate of each country was then overlayed on the original GDP bar chart. "
   ]
  },
  {
   "cell_type": "code",
   "execution_count": 13,
   "metadata": {},
   "outputs": [
    {
     "data": {
      "text/plain": [
       "Text(0, 0.5, 'Vaccination Rate')"
      ]
     },
     "execution_count": 13,
     "metadata": {},
     "output_type": "execute_result"
    },
    {
     "data": {
      "image/png": "[encoded data removed]",
      "text/plain": [
       "<Figure size 432x288 with 2 Axes>"
      ]
     },
     "metadata": {
      "needs_background": "light"
     },
     "output_type": "display_data"
    }
   ],
   "source": [
    "fig, ax1 = plt.subplots()\n",
    "ticks = range(len(gdp_countries))\n",
    "plt.xticks(ticks, gdp_countries)\n",
    "plt.xticks(rotation=90)\n",
    "\n",
    "ax2 = ax1.twinx()\n",
    "ax2.bar(ticks, gdp_vaccination_rates, width = 0.3, color = 'cornflowerblue')\n",
    "ax1.bar(ticks, gdp_scores, width = .8, color = 'midnightblue')\n",
    "\n",
    "\n",
    "#ax1.set_xlabel('Countries')\n",
    "ax1.set_ylabel('GDP Per Capita', color='midnightblue')\n",
    "ax2.set_ylabel('Vaccination Rate', color='cornflowerblue')"
   ]
  },
  {
   "cell_type": "code",
   "execution_count": 14,
   "metadata": {},
   "outputs": [
    {
     "name": "stdout",
     "output_type": "stream",
     "text": [
      "Lowest GDP vaccination rates:  0.012353480185882159\n",
      "Highest GDP vaccination rate:  0.6264900551630042\n"
     ]
    }
   ],
   "source": [
    "print('Lowest GDP vaccination rates: ', \\\n",
    "      max_min_gdp['vaccination_rate'][:9].mean())\n",
    "print('Highest GDP vaccination rate: ', \\\n",
    "      max_min_gdp['vaccination_rate'][10:].mean())"
   ]
  },
  {
   "cell_type": "markdown",
   "metadata": {},
   "source": [
    "There is a clear correlation between the vaccination rate and the GDP of each country. The average vaccination rate in the countries with the 10 highest GDPs is about 62% while the vaccination rate in the countries with the 10 lowest GDPs is about 1%. This is furthered by the chart below of GDP by vaccination rate with a clear positive correlation. "
   ]
  },
  {
   "cell_type": "code",
   "execution_count": 15,
   "metadata": {},
   "outputs": [
    {
     "data": {
      "text/plain": [
       "Text(0, 0.5, 'Vaccination Rate')"
      ]
     },
     "execution_count": 15,
     "metadata": {},
     "output_type": "execute_result"
    },
    {
     "data": {
      "image/png": "[encoded data removed]",
      "text/plain": [
       "<Figure size 432x288 with 1 Axes>"
      ]
     },
     "metadata": {
      "needs_background": "light"
     },
     "output_type": "display_data"
    }
   ],
   "source": [
    "plt.plot(gdp_data['GDP_Per_Capita'], gdp_data['vaccination_rate'], 'o', color = 'midnightblue')\n",
    "plt.xlabel('GDP per capita')\n",
    "plt.ylabel('Vaccination Rate')"
   ]
  },
  {
   "cell_type": "markdown",
   "metadata": {},
   "source": [
    "We then overlayed the COVID-19 death rates over the countries with the top 10 highest and lowest GDP scores. "
   ]
  },
  {
   "cell_type": "code",
   "execution_count": 16,
   "metadata": {},
   "outputs": [
    {
     "data": {
      "text/plain": [
       "Text(0, 0.5, 'Death Rate per million')"
      ]
     },
     "execution_count": 16,
     "metadata": {},
     "output_type": "execute_result"
    },
    {
     "data": {
      "image/png": "[encoded data removed]",
      "text/plain": [
       "<Figure size 432x288 with 2 Axes>"
      ]
     },
     "metadata": {
      "needs_background": "light"
     },
     "output_type": "display_data"
    }
   ],
   "source": [
    "fig, ax1 = plt.subplots()\n",
    "ticks = range(len(gdp_countries))\n",
    "plt.xticks(ticks, gdp_countries)\n",
    "plt.xticks(rotation=90)\n",
    "\n",
    "ax2 = ax1.twinx()\n",
    "ax2.bar(ticks, gdp_death_rates, width = 0.3, color = 'cornflowerblue')\n",
    "ax1.bar(ticks, gdp_scores, width = .8, color = 'midnightblue')\n",
    "\n",
    "ax1.set_ylabel('GDP Per Capita', color='midnightblue')\n",
    "ax2.set_ylabel('Death Rate per million', color='cornflowerblue')"
   ]
  },
  {
   "cell_type": "markdown",
   "metadata": {},
   "source": [
    "Here, there are higher death rates per million in the countries with higher GDPs, however this is likely due to reporting rather than the reality of the situation. In order to look into this theory further, we first plotted the GDP per capita by the Death per Million for every country in order to see if there was an overarching trend. "
   ]
  },
  {
   "cell_type": "code",
   "execution_count": 17,
   "metadata": {},
   "outputs": [
    {
     "data": {
      "text/plain": [
       "Text(0, 0.5, 'Death Rate per Million')"
      ]
     },
     "execution_count": 17,
     "metadata": {},
     "output_type": "execute_result"
    },
    {
     "data": {
      "image/png": "[encoded data removed]",
      "text/plain": [
       "<Figure size 432x288 with 1 Axes>"
      ]
     },
     "metadata": {
      "needs_background": "light"
     },
     "output_type": "display_data"
    }
   ],
   "source": [
    "plt.plot(gdp_data['GDP_Per_Capita'], gdp_data['Total_Deaths_Per_Million'], 'o', color = 'midnightblue')\n",
    "plt.xlabel('GDP per capita')\n",
    "plt.ylabel('Death Rate per Million')"
   ]
  },
  {
   "cell_type": "markdown",
   "metadata": {},
   "source": [
    "This revealed that there was no correlation between GDP and deaths per million. In countries where the death rate is higher, we would expect to see a correlation with population density. Here we explore their correlation. "
   ]
  },
  {
   "cell_type": "code",
   "execution_count": 18,
   "metadata": {},
   "outputs": [],
   "source": [
    "death_rate_data = gdp_data.sort_values(by = 'Total_Deaths_Per_Million')"
   ]
  },
  {
   "cell_type": "code",
   "execution_count": 25,
   "metadata": {},
   "outputs": [
    {
     "data": {
      "text/html": [
       "<div>\n",
       "<style scoped>\n",
       "    .dataframe tbody tr th:only-of-type {\n",
       "        vertical-align: middle;\n",
       "    }\n",
       "\n",
       "    .dataframe tbody tr th {\n",
       "        vertical-align: top;\n",
       "    }\n",
       "\n",
       "    .dataframe thead th {\n",
       "        text-align: right;\n",
       "    }\n",
       "</style>\n",
       "<table border=\"1\" class=\"dataframe\">\n",
       "  <thead>\n",
       "    <tr style=\"text-align: right;\">\n",
       "      <th></th>\n",
       "      <th>Country</th>\n",
       "      <th>GDP_Per_Capita</th>\n",
       "      <th>vaccination_rate</th>\n",
       "      <th>Total_Deaths_Per_Million</th>\n",
       "      <th>Population_Density</th>\n",
       "      <th>Population</th>\n",
       "    </tr>\n",
       "  </thead>\n",
       "  <tbody>\n",
       "    <tr>\n",
       "      <th>0</th>\n",
       "      <td>China</td>\n",
       "      <td>15308.712</td>\n",
       "      <td>0.725565</td>\n",
       "      <td>3.210</td>\n",
       "      <td>147.674</td>\n",
       "      <td>1444216102</td>\n",
       "    </tr>\n",
       "    <tr>\n",
       "      <th>1</th>\n",
       "      <td>New Zealand</td>\n",
       "      <td>36085.843</td>\n",
       "      <td>0.501806</td>\n",
       "      <td>5.761</td>\n",
       "      <td>18.206</td>\n",
       "      <td>4860642</td>\n",
       "    </tr>\n",
       "    <tr>\n",
       "      <th>2</th>\n",
       "      <td>Niger</td>\n",
       "      <td>926.000</td>\n",
       "      <td>0.008619</td>\n",
       "      <td>8.118</td>\n",
       "      <td>16.955</td>\n",
       "      <td>25130810</td>\n",
       "    </tr>\n",
       "    <tr>\n",
       "      <th>3</th>\n",
       "      <td>Burkina Faso</td>\n",
       "      <td>1703.102</td>\n",
       "      <td>0.009722</td>\n",
       "      <td>9.071</td>\n",
       "      <td>70.151</td>\n",
       "      <td>21497097</td>\n",
       "    </tr>\n",
       "    <tr>\n",
       "      <th>4</th>\n",
       "      <td>Chad</td>\n",
       "      <td>1768.153</td>\n",
       "      <td>0.001986</td>\n",
       "      <td>10.287</td>\n",
       "      <td>11.833</td>\n",
       "      <td>16914985</td>\n",
       "    </tr>\n",
       "  </tbody>\n",
       "</table>\n",
       "</div>"
      ],
      "text/plain": [
       "        Country  GDP_Per_Capita  vaccination_rate  Total_Deaths_Per_Million  \\\n",
       "0         China       15308.712          0.725565                     3.210   \n",
       "1   New Zealand       36085.843          0.501806                     5.761   \n",
       "2         Niger         926.000          0.008619                     8.118   \n",
       "3  Burkina Faso        1703.102          0.009722                     9.071   \n",
       "4          Chad        1768.153          0.001986                    10.287   \n",
       "\n",
       "   Population_Density  Population  \n",
       "0             147.674  1444216102  \n",
       "1              18.206     4860642  \n",
       "2              16.955    25130810  \n",
       "3              70.151    21497097  \n",
       "4              11.833    16914985  "
      ]
     },
     "execution_count": 25,
     "metadata": {},
     "output_type": "execute_result"
    }
   ],
   "source": [
    "max_5_death = death_rate_data[0:10] \n",
    "min_5_death = death_rate_data[-11:-1]\n",
    "max_min_death = max_5_death.merge(min_5_death, how='outer')\n",
    "max_min_death.head()"
   ]
  },
  {
   "cell_type": "code",
   "execution_count": 24,
   "metadata": {},
   "outputs": [
    {
     "data": {
      "text/plain": [
       "Text(0, 0.5, 'Population Density')"
      ]
     },
     "execution_count": 24,
     "metadata": {},
     "output_type": "execute_result"
    },
    {
     "data": {
      "image/png": "[encoded data removed]",
      "text/plain": [
       "<Figure size 432x288 with 2 Axes>"
      ]
     },
     "metadata": {
      "needs_background": "light"
     },
     "output_type": "display_data"
    }
   ],
   "source": [
    "fig, ax1 = plt.subplots()\n",
    "ticks = range(len(max_min_death['Country']))\n",
    "plt.xticks(ticks, max_min_death['Country'])\n",
    "plt.xticks(rotation=90)\n",
    "\n",
    "ax2 = ax1.twinx()\n",
    "ax2.bar(ticks, max_min_death['Population_Density'], width = 0.3, color = 'cornflowerblue')\n",
    "ax1.bar(ticks, max_min_death['Total_Deaths_Per_Million'], width = .8, color = 'midnightblue')\n",
    "\n",
    "\n",
    "ax1.set_xlabel('Countries')\n",
    "ax1.set_ylabel('Death Rate per Million', color='midnightblue')\n",
    "ax2.set_ylabel('Population Density', color='cornflowerblue')"
   ]
  },
  {
   "cell_type": "code",
   "execution_count": 21,
   "metadata": {},
   "outputs": [
    {
     "name": "stdout",
     "output_type": "stream",
     "text": [
      "Lowest death rates average population density:  58.754222222222225\n",
      "Highest death rates average population density:  68.8775\n"
     ]
    }
   ],
   "source": [
    "print('Lowest death rates average population density: ', \\\n",
    "      max_min_death['Population_Density'][:9].mean())\n",
    "print('Highest death rates average population density: ', \\\n",
    "      max_min_death['Population_Density'][10:].mean())"
   ]
  },
  {
   "cell_type": "markdown",
   "metadata": {},
   "source": [
    "There does not appear to be a correlation between population density and death rate which furthers the idea that the death rate may not be entirely accurate. Nonetheless, these results find no correlation between GDP and death rates per million. "
   ]
  },
  {
   "cell_type": "markdown",
   "metadata": {},
   "source": [
    "## Take-aways\n",
    "1) We found that the overall trust a country has in their government positively correlates with the COVID-19 vaccination rate of said country, with a few outliers such as Rwanda.\n",
    "\n",
    "2) We also found that there is an overall negative correlation of about -0.04 and -0.17 between government trust vs. mortality rate & infection rate respectivelly. The most the people in a country trusted their government, the better the pandemic numbers were for said country.\n",
    "\n",
    "3) Finally, we found that there is a correlation between a country's GDP and their vaccination rates, however we found no correlation between a country's GDP and its COVID-19 deaths per million people. "
   ]
  },
  {
   "cell_type": "markdown",
   "metadata": {},
   "source": [
    "## References \n",
    "\n",
    "Include all references to sources for the code, sources for any packages or methods you used and a guide to all of the files you wrote and are including. "
   ]
  },
  {
   "cell_type": "markdown",
   "metadata": {},
   "source": [
    "1) COVID-19 Dataset | Kaggle = https://www.kaggle.com/abhimaneukj/covid19-dataset\n",
    "\n",
    "2) World Happiness Report | Kaggle = https://www.kaggle.com/yamaerenay/world-happiness-report-preprocessed?select=2020_report.csv\n"
   ]
  }
 ],
 "metadata": {
  "kernelspec": {
   "display_name": "Python 3",
   "language": "python",
   "name": "python3"
  },
  "language_info": {
   "codemirror_mode": {
    "name": "ipython",
    "version": 3
   },
   "file_extension": ".py",
   "mimetype": "text/x-python",
   "name": "python",
   "nbconvert_exporter": "python",
   "pygments_lexer": "ipython3",
   "version": "3.6.13"
  }
 },
 "nbformat": 4,
 "nbformat_minor": 2
}
